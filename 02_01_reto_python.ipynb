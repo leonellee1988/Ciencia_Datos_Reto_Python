{
 "cells": [
  {
   "cell_type": "markdown",
   "metadata": {},
   "source": [
    "**(1) Importación de paquetes**"
   ]
  },
  {
   "cell_type": "code",
   "execution_count": 109,
   "metadata": {},
   "outputs": [],
   "source": [
    "import pandas as pd\n",
    "import seaborn as sns\n",
    "import numpy as np\n",
    "from sklearn.preprocessing import MinMaxScaler"
   ]
  },
  {
   "cell_type": "markdown",
   "metadata": {},
   "source": [
    "**(2) Descarga de información**"
   ]
  },
  {
   "cell_type": "code",
   "execution_count": 110,
   "metadata": {},
   "outputs": [
    {
     "data": {
      "text/html": [
       "<div>\n",
       "<style scoped>\n",
       "    .dataframe tbody tr th:only-of-type {\n",
       "        vertical-align: middle;\n",
       "    }\n",
       "\n",
       "    .dataframe tbody tr th {\n",
       "        vertical-align: top;\n",
       "    }\n",
       "\n",
       "    .dataframe thead th {\n",
       "        text-align: right;\n",
       "    }\n",
       "</style>\n",
       "<table border=\"1\" class=\"dataframe\">\n",
       "  <thead>\n",
       "    <tr style=\"text-align: right;\">\n",
       "      <th></th>\n",
       "      <th>Nombre</th>\n",
       "      <th>Apellido</th>\n",
       "      <th>Sexo</th>\n",
       "      <th>Estado_Civil</th>\n",
       "      <th>Edad</th>\n",
       "      <th>Experiencia</th>\n",
       "      <th>Salario</th>\n",
       "      <th>Gerencia</th>\n",
       "      <th>Departamento</th>\n",
       "    </tr>\n",
       "  </thead>\n",
       "  <tbody>\n",
       "    <tr>\n",
       "      <th>0</th>\n",
       "      <td>Alexandro</td>\n",
       "      <td>NaN</td>\n",
       "      <td>Masculino</td>\n",
       "      <td>Soltero(a)</td>\n",
       "      <td>22.0</td>\n",
       "      <td>3.0</td>\n",
       "      <td>2423.0</td>\n",
       "      <td>No</td>\n",
       "      <td>Publicidad</td>\n",
       "    </tr>\n",
       "    <tr>\n",
       "      <th>1</th>\n",
       "      <td>Carlos</td>\n",
       "      <td>NaN</td>\n",
       "      <td>Masculino</td>\n",
       "      <td>Casado(a)</td>\n",
       "      <td>38.0</td>\n",
       "      <td>10.0</td>\n",
       "      <td>3132.0</td>\n",
       "      <td>Sí</td>\n",
       "      <td>NaN</td>\n",
       "    </tr>\n",
       "    <tr>\n",
       "      <th>2</th>\n",
       "      <td>Felipa</td>\n",
       "      <td>NaN</td>\n",
       "      <td>Femenino</td>\n",
       "      <td>Soltero(a)</td>\n",
       "      <td>26.0</td>\n",
       "      <td>5.0</td>\n",
       "      <td>2639.0</td>\n",
       "      <td>No</td>\n",
       "      <td>Comercial</td>\n",
       "    </tr>\n",
       "    <tr>\n",
       "      <th>3</th>\n",
       "      <td>Daniel</td>\n",
       "      <td>NaN</td>\n",
       "      <td>Masculino</td>\n",
       "      <td>Casado(a)</td>\n",
       "      <td>35.0</td>\n",
       "      <td>10.0</td>\n",
       "      <td>3122.0</td>\n",
       "      <td>No</td>\n",
       "      <td>Comercial</td>\n",
       "    </tr>\n",
       "    <tr>\n",
       "      <th>4</th>\n",
       "      <td>John</td>\n",
       "      <td>NaN</td>\n",
       "      <td>Masculino</td>\n",
       "      <td>Casado(a)</td>\n",
       "      <td>35.0</td>\n",
       "      <td>13.0</td>\n",
       "      <td>3431.0</td>\n",
       "      <td>Sí</td>\n",
       "      <td>Servicios al cliente</td>\n",
       "    </tr>\n",
       "  </tbody>\n",
       "</table>\n",
       "</div>"
      ],
      "text/plain": [
       "      Nombre  Apellido       Sexo Estado_Civil  Edad  Experiencia  Salario  \\\n",
       "0  Alexandro       NaN  Masculino   Soltero(a)  22.0          3.0   2423.0   \n",
       "1     Carlos       NaN  Masculino    Casado(a)  38.0         10.0   3132.0   \n",
       "2     Felipa       NaN   Femenino   Soltero(a)  26.0          5.0   2639.0   \n",
       "3     Daniel       NaN  Masculino    Casado(a)  35.0         10.0   3122.0   \n",
       "4       John       NaN  Masculino    Casado(a)  35.0         13.0   3431.0   \n",
       "\n",
       "  Gerencia          Departamento  \n",
       "0       No            Publicidad  \n",
       "1       Sí                   NaN  \n",
       "2       No             Comercial  \n",
       "3       No             Comercial  \n",
       "4       Sí  Servicios al cliente  "
      ]
     },
     "execution_count": 110,
     "metadata": {},
     "output_type": "execute_result"
    }
   ],
   "source": [
    "df = pd.read_csv('C:\\\\Users\\\\Usuario\\\\Desktop\\\\ciencia_de_datos\\\\reto_python_2025\\\\empleados.csv', delimiter=';')\n",
    "df.head()"
   ]
  },
  {
   "cell_type": "markdown",
   "metadata": {},
   "source": [
    "**(3) Tratamiento de la información**"
   ]
  },
  {
   "cell_type": "code",
   "execution_count": 111,
   "metadata": {},
   "outputs": [
    {
     "name": "stdout",
     "output_type": "stream",
     "text": [
      "Cantidad de filas: 251\n",
      "Cantidad de columnas: 9\n",
      "Cantidad de valores nulos: \n",
      "Nombre            6\n",
      "Apellido        251\n",
      "Sexo             37\n",
      "Estado_Civil      4\n",
      "Edad             61\n",
      "Experiencia       4\n",
      "Salario           6\n",
      "Gerencia         21\n",
      "Departamento     12\n",
      "dtype: int64\n"
     ]
    }
   ],
   "source": [
    "# Información general del dataframe:\n",
    "\n",
    "print(f'Cantidad de filas: {df.shape[0]}')\n",
    "print(f'Cantidad de columnas: {df.shape[1]}')\n",
    "print('Cantidad de valores nulos: ')\n",
    "print(df.isnull().sum())"
   ]
  },
  {
   "cell_type": "code",
   "execution_count": 112,
   "metadata": {},
   "outputs": [
    {
     "name": "stdout",
     "output_type": "stream",
     "text": [
      "Cantidad de filas: 145\n",
      "Cantidad de columnas: 8\n",
      "Cantidad de valores nulos: \n",
      "Nombre          0\n",
      "Sexo            0\n",
      "Estado_Civil    0\n",
      "Edad            0\n",
      "Experiencia     0\n",
      "Salario         0\n",
      "Gerencia        0\n",
      "Departamento    0\n",
      "dtype: int64\n"
     ]
    }
   ],
   "source": [
    "# Eliminar datos nulos (null values):\n",
    "\n",
    "# Nota importante: recordar que la columna \"Apellido\" no tiene registros, es decir, todos son null values\n",
    "\n",
    "df = df.drop(columns=['Apellido'])\n",
    "df = df.dropna(axis=0)\n",
    "\n",
    "print(f'Cantidad de filas: {df.shape[0]}')\n",
    "print(f'Cantidad de columnas: {df.shape[1]}')\n",
    "print('Cantidad de valores nulos: ')\n",
    "print(df.isnull().sum())"
   ]
  },
  {
   "cell_type": "markdown",
   "metadata": {},
   "source": [
    "**(4) Calculo del coeficiente de correlación**"
   ]
  },
  {
   "cell_type": "code",
   "execution_count": 113,
   "metadata": {},
   "outputs": [
    {
     "data": {
      "text/plain": [
       "np.float64(0.9921960458660798)"
      ]
     },
     "execution_count": 113,
     "metadata": {},
     "output_type": "execute_result"
    }
   ],
   "source": [
    "# Se necesita conocer la correlación entre los campos \"Experiencia\" y \"Salario\"\n",
    "\n",
    "df['Experiencia'].corr(df['Salario'])"
   ]
  },
  {
   "cell_type": "code",
   "execution_count": 114,
   "metadata": {},
   "outputs": [
    {
     "data": {
      "text/plain": [
       "<Axes: >"
      ]
     },
     "execution_count": 114,
     "metadata": {},
     "output_type": "execute_result"
    },
    {
     "data": {
      "image/png": "[encoded data removed]",
      "text/plain": [
       "<Figure size 640x480 with 2 Axes>"
      ]
     },
     "metadata": {},
     "output_type": "display_data"
    }
   ],
   "source": [
    "# Creación del \"Heatmap\" para el dataframe:\n",
    "\n",
    "sns.heatmap(df.corr(numeric_only=True), vmin=1, annot=True, cmap='Greys')"
   ]
  },
  {
   "cell_type": "markdown",
   "metadata": {},
   "source": [
    "**(5) Operaciones con campos numéricos**"
   ]
  },
  {
   "cell_type": "code",
   "execution_count": 115,
   "metadata": {},
   "outputs": [
    {
     "data": {
      "text/plain": [
       "Edad             33.868966\n",
       "Experiencia       6.896552\n",
       "Salario        2781.889655\n",
       "dtype: float64"
      ]
     },
     "execution_count": 115,
     "metadata": {},
     "output_type": "execute_result"
    }
   ],
   "source": [
    "# Media o promedio:\n",
    "\n",
    "df_num = df.select_dtypes(include='number')\n",
    "\n",
    "medias = df_num.mean(axis=0)\n",
    "medias"
   ]
  },
  {
   "cell_type": "code",
   "execution_count": 116,
   "metadata": {},
   "outputs": [
    {
     "data": {
      "text/plain": [
       "Edad             18.0\n",
       "Experiencia       0.0\n",
       "Salario        1872.0\n",
       "dtype: float64"
      ]
     },
     "execution_count": 116,
     "metadata": {},
     "output_type": "execute_result"
    }
   ],
   "source": [
    "# Valores mínimos:\n",
    "\n",
    "minimos = df_num.min()\n",
    "minimos"
   ]
  },
  {
   "cell_type": "code",
   "execution_count": 117,
   "metadata": {},
   "outputs": [
    {
     "data": {
      "text/plain": [
       "Edad             71.0\n",
       "Experiencia      33.0\n",
       "Salario        5462.0\n",
       "dtype: float64"
      ]
     },
     "execution_count": 117,
     "metadata": {},
     "output_type": "execute_result"
    }
   ],
   "source": [
    "# Valores máximos:\n",
    "\n",
    "maximos = df_num.max()\n",
    "maximos"
   ]
  },
  {
   "cell_type": "code",
   "execution_count": 118,
   "metadata": {},
   "outputs": [
    {
     "data": {
      "text/plain": [
       "Edad            12.422680\n",
       "Experiencia      6.576182\n",
       "Salario        711.535245\n",
       "dtype: float64"
      ]
     },
     "execution_count": 118,
     "metadata": {},
     "output_type": "execute_result"
    }
   ],
   "source": [
    "# Desviación estándar:\n",
    "\n",
    "desv_est = df_num.std()\n",
    "desv_est"
   ]
  },
  {
   "cell_type": "code",
   "execution_count": 119,
   "metadata": {},
   "outputs": [
    {
     "data": {
      "text/plain": [
       "Edad           0.366787\n",
       "Experiencia    0.953546\n",
       "Salario        0.255774\n",
       "dtype: float64"
      ]
     },
     "execution_count": 119,
     "metadata": {},
     "output_type": "execute_result"
    }
   ],
   "source": [
    "# Coeficiente de variación:\n",
    "\n",
    "coef_var = desv_est / medias\n",
    "coef_var"
   ]
  },
  {
   "cell_type": "markdown",
   "metadata": {},
   "source": [
    "**(6) Normalización de las columnas**"
   ]
  },
  {
   "cell_type": "code",
   "execution_count": 120,
   "metadata": {},
   "outputs": [],
   "source": [
    "# Creación del modelo de escala:\n",
    "\n",
    "scaler = MinMaxScaler()"
   ]
  },
  {
   "cell_type": "code",
   "execution_count": 121,
   "metadata": {},
   "outputs": [
    {
     "data": {
      "text/html": [
       "<div>\n",
       "<style scoped>\n",
       "    .dataframe tbody tr th:only-of-type {\n",
       "        vertical-align: middle;\n",
       "    }\n",
       "\n",
       "    .dataframe tbody tr th {\n",
       "        vertical-align: top;\n",
       "    }\n",
       "\n",
       "    .dataframe thead th {\n",
       "        text-align: right;\n",
       "    }\n",
       "</style>\n",
       "<table border=\"1\" class=\"dataframe\">\n",
       "  <thead>\n",
       "    <tr style=\"text-align: right;\">\n",
       "      <th></th>\n",
       "      <th>Edad</th>\n",
       "      <th>Experiencia</th>\n",
       "      <th>Salario</th>\n",
       "    </tr>\n",
       "  </thead>\n",
       "  <tbody>\n",
       "    <tr>\n",
       "      <th>0</th>\n",
       "      <td>0.075472</td>\n",
       "      <td>0.090909</td>\n",
       "      <td>0.153482</td>\n",
       "    </tr>\n",
       "    <tr>\n",
       "      <th>1</th>\n",
       "      <td>0.150943</td>\n",
       "      <td>0.151515</td>\n",
       "      <td>0.213649</td>\n",
       "    </tr>\n",
       "    <tr>\n",
       "      <th>2</th>\n",
       "      <td>0.320755</td>\n",
       "      <td>0.303030</td>\n",
       "      <td>0.348189</td>\n",
       "    </tr>\n",
       "    <tr>\n",
       "      <th>3</th>\n",
       "      <td>0.320755</td>\n",
       "      <td>0.393939</td>\n",
       "      <td>0.434262</td>\n",
       "    </tr>\n",
       "    <tr>\n",
       "      <th>4</th>\n",
       "      <td>0.679245</td>\n",
       "      <td>0.545455</td>\n",
       "      <td>0.582173</td>\n",
       "    </tr>\n",
       "  </tbody>\n",
       "</table>\n",
       "</div>"
      ],
      "text/plain": [
       "       Edad  Experiencia   Salario\n",
       "0  0.075472     0.090909  0.153482\n",
       "1  0.150943     0.151515  0.213649\n",
       "2  0.320755     0.303030  0.348189\n",
       "3  0.320755     0.393939  0.434262\n",
       "4  0.679245     0.545455  0.582173"
      ]
     },
     "execution_count": 121,
     "metadata": {},
     "output_type": "execute_result"
    }
   ],
   "source": [
    "df_scaled = scaler.fit_transform(df_num) # Genera un array o arreglo de datos\n",
    "df_scaled = pd.DataFrame(df_scaled, columns=['Edad', 'Experiencia', 'Salario'])\n",
    "df_scaled.head()\n",
    "\n",
    "# Nota importante: se ha creado el dataframe \"df_scaled\" (de uso para este apartado específico)"
   ]
  },
  {
   "cell_type": "markdown",
   "metadata": {},
   "source": [
    "**(7) Agregar registros a un dataframe**"
   ]
  },
  {
   "cell_type": "code",
   "execution_count": 122,
   "metadata": {},
   "outputs": [
    {
     "data": {
      "text/html": [
       "<div>\n",
       "<style scoped>\n",
       "    .dataframe tbody tr th:only-of-type {\n",
       "        vertical-align: middle;\n",
       "    }\n",
       "\n",
       "    .dataframe tbody tr th {\n",
       "        vertical-align: top;\n",
       "    }\n",
       "\n",
       "    .dataframe thead th {\n",
       "        text-align: right;\n",
       "    }\n",
       "</style>\n",
       "<table border=\"1\" class=\"dataframe\">\n",
       "  <thead>\n",
       "    <tr style=\"text-align: right;\">\n",
       "      <th></th>\n",
       "      <th>Nombre</th>\n",
       "      <th>Sexo</th>\n",
       "      <th>Estado_Civil</th>\n",
       "      <th>Edad</th>\n",
       "      <th>Experiencia</th>\n",
       "      <th>Salario</th>\n",
       "      <th>Gerencia</th>\n",
       "      <th>Departamento</th>\n",
       "    </tr>\n",
       "  </thead>\n",
       "  <tbody>\n",
       "    <tr>\n",
       "      <th>244</th>\n",
       "      <td>Hernando</td>\n",
       "      <td>Masculino</td>\n",
       "      <td>Divorciado(a)</td>\n",
       "      <td>29.0</td>\n",
       "      <td>4.0</td>\n",
       "      <td>2510.0</td>\n",
       "      <td>No</td>\n",
       "      <td>IT</td>\n",
       "    </tr>\n",
       "    <tr>\n",
       "      <th>245</th>\n",
       "      <td>Vito</td>\n",
       "      <td>Masculino</td>\n",
       "      <td>Divorciado(a)</td>\n",
       "      <td>22.0</td>\n",
       "      <td>4.0</td>\n",
       "      <td>2530.0</td>\n",
       "      <td>No</td>\n",
       "      <td>Producto</td>\n",
       "    </tr>\n",
       "    <tr>\n",
       "      <th>246</th>\n",
       "      <td>Jose</td>\n",
       "      <td>Masculino</td>\n",
       "      <td>Casado(a)</td>\n",
       "      <td>30.0</td>\n",
       "      <td>6.0</td>\n",
       "      <td>2760.0</td>\n",
       "      <td>No</td>\n",
       "      <td>Servicios al cliente</td>\n",
       "    </tr>\n",
       "    <tr>\n",
       "      <th>247</th>\n",
       "      <td>Marcelo</td>\n",
       "      <td>Masculino</td>\n",
       "      <td>Divorciado(a)</td>\n",
       "      <td>44.0</td>\n",
       "      <td>15.0</td>\n",
       "      <td>3616.0</td>\n",
       "      <td>No</td>\n",
       "      <td>IT</td>\n",
       "    </tr>\n",
       "    <tr>\n",
       "      <th>250</th>\n",
       "      <td>Leandro</td>\n",
       "      <td>Masculino</td>\n",
       "      <td>Casado(a)</td>\n",
       "      <td>37.0</td>\n",
       "      <td>11.0</td>\n",
       "      <td>3245.0</td>\n",
       "      <td>No</td>\n",
       "      <td>Finanzas</td>\n",
       "    </tr>\n",
       "  </tbody>\n",
       "</table>\n",
       "</div>"
      ],
      "text/plain": [
       "       Nombre       Sexo   Estado_Civil  Edad  Experiencia  Salario Gerencia  \\\n",
       "244  Hernando  Masculino  Divorciado(a)  29.0          4.0   2510.0       No   \n",
       "245      Vito  Masculino  Divorciado(a)  22.0          4.0   2530.0       No   \n",
       "246      Jose  Masculino      Casado(a)  30.0          6.0   2760.0       No   \n",
       "247   Marcelo  Masculino  Divorciado(a)  44.0         15.0   3616.0       No   \n",
       "250   Leandro  Masculino      Casado(a)  37.0         11.0   3245.0       No   \n",
       "\n",
       "             Departamento  \n",
       "244                    IT  \n",
       "245              Producto  \n",
       "246  Servicios al cliente  \n",
       "247                    IT  \n",
       "250              Finanzas  "
      ]
     },
     "execution_count": 122,
     "metadata": {},
     "output_type": "execute_result"
    }
   ],
   "source": [
    "# Recordemos que el dataframe \"df\" tiene un total de 145 registros, siendo los últimos 5:\n",
    "\n",
    "df.tail()"
   ]
  },
  {
   "cell_type": "code",
   "execution_count": 123,
   "metadata": {},
   "outputs": [
    {
     "data": {
      "text/html": [
       "<div>\n",
       "<style scoped>\n",
       "    .dataframe tbody tr th:only-of-type {\n",
       "        vertical-align: middle;\n",
       "    }\n",
       "\n",
       "    .dataframe tbody tr th {\n",
       "        vertical-align: top;\n",
       "    }\n",
       "\n",
       "    .dataframe thead th {\n",
       "        text-align: right;\n",
       "    }\n",
       "</style>\n",
       "<table border=\"1\" class=\"dataframe\">\n",
       "  <thead>\n",
       "    <tr style=\"text-align: right;\">\n",
       "      <th></th>\n",
       "      <th>Nombre</th>\n",
       "      <th>Sexo</th>\n",
       "      <th>Estado_Civil</th>\n",
       "      <th>Edad</th>\n",
       "      <th>Experiencia</th>\n",
       "      <th>Salario</th>\n",
       "      <th>Gerencia</th>\n",
       "      <th>Departamento</th>\n",
       "    </tr>\n",
       "  </thead>\n",
       "  <tbody>\n",
       "    <tr>\n",
       "      <th>141</th>\n",
       "      <td>Vito</td>\n",
       "      <td>Masculino</td>\n",
       "      <td>Divorciado(a)</td>\n",
       "      <td>22.0</td>\n",
       "      <td>4.0</td>\n",
       "      <td>2530.0</td>\n",
       "      <td>No</td>\n",
       "      <td>Producto</td>\n",
       "    </tr>\n",
       "    <tr>\n",
       "      <th>142</th>\n",
       "      <td>Jose</td>\n",
       "      <td>Masculino</td>\n",
       "      <td>Casado(a)</td>\n",
       "      <td>30.0</td>\n",
       "      <td>6.0</td>\n",
       "      <td>2760.0</td>\n",
       "      <td>No</td>\n",
       "      <td>Servicios al cliente</td>\n",
       "    </tr>\n",
       "    <tr>\n",
       "      <th>143</th>\n",
       "      <td>Marcelo</td>\n",
       "      <td>Masculino</td>\n",
       "      <td>Divorciado(a)</td>\n",
       "      <td>44.0</td>\n",
       "      <td>15.0</td>\n",
       "      <td>3616.0</td>\n",
       "      <td>No</td>\n",
       "      <td>IT</td>\n",
       "    </tr>\n",
       "    <tr>\n",
       "      <th>144</th>\n",
       "      <td>Leandro</td>\n",
       "      <td>Masculino</td>\n",
       "      <td>Casado(a)</td>\n",
       "      <td>37.0</td>\n",
       "      <td>11.0</td>\n",
       "      <td>3245.0</td>\n",
       "      <td>No</td>\n",
       "      <td>Finanzas</td>\n",
       "    </tr>\n",
       "    <tr>\n",
       "      <th>145</th>\n",
       "      <td>Noemi</td>\n",
       "      <td>Femenino</td>\n",
       "      <td>Casado(a)</td>\n",
       "      <td>33.0</td>\n",
       "      <td>10.0</td>\n",
       "      <td>2750.0</td>\n",
       "      <td>No</td>\n",
       "      <td>Marketing</td>\n",
       "    </tr>\n",
       "  </tbody>\n",
       "</table>\n",
       "</div>"
      ],
      "text/plain": [
       "      Nombre       Sexo   Estado_Civil  Edad  Experiencia  Salario Gerencia  \\\n",
       "141     Vito  Masculino  Divorciado(a)  22.0          4.0   2530.0       No   \n",
       "142     Jose  Masculino      Casado(a)  30.0          6.0   2760.0       No   \n",
       "143  Marcelo  Masculino  Divorciado(a)  44.0         15.0   3616.0       No   \n",
       "144  Leandro  Masculino      Casado(a)  37.0         11.0   3245.0       No   \n",
       "145    Noemi   Femenino      Casado(a)  33.0         10.0   2750.0       No   \n",
       "\n",
       "             Departamento  \n",
       "141              Producto  \n",
       "142  Servicios al cliente  \n",
       "143                    IT  \n",
       "144              Finanzas  \n",
       "145             Marketing  "
      ]
     },
     "execution_count": 123,
     "metadata": {},
     "output_type": "execute_result"
    }
   ],
   "source": [
    "# Nuevo registro:\n",
    "\n",
    "nuevo_registro = pd.DataFrame.from_dict([{\n",
    "    'Nombre':'Noemi',\n",
    "    'Sexo':'Femenino',\n",
    "    'Estado_Civil':'Casado(a)',\n",
    "    'Edad':33,\n",
    "    'Experiencia':10.0,\n",
    "    'Salario':2750,\n",
    "    'Gerencia':'No',\n",
    "    'Departamento':'Marketing'\n",
    "}])\n",
    "df = pd.concat([df, nuevo_registro], ignore_index=True)\n",
    "\n",
    "df.tail()"
   ]
  },
  {
   "cell_type": "code",
   "execution_count": 124,
   "metadata": {},
   "outputs": [
    {
     "name": "stdout",
     "output_type": "stream",
     "text": [
      "Cantidad de filas: 146\n",
      "Cantidad de columnas: 8\n"
     ]
    }
   ],
   "source": [
    "print(f'Cantidad de filas: {df.shape[0]}')\n",
    "print(f'Cantidad de columnas: {df.shape[1]}')"
   ]
  },
  {
   "cell_type": "markdown",
   "metadata": {},
   "source": [
    "**(8) Eliminar encabezados y convertir datos a flotantes**"
   ]
  },
  {
   "cell_type": "code",
   "execution_count": 125,
   "metadata": {},
   "outputs": [],
   "source": [
    "emisiones = np.array(\n",
    "[['Motor', 'Cilindros', 'Consumo Ciudad', 'Consumo Carretera', 'CO2'],\n",
    "[2,4,13.7,9.4,382],\n",
    "[4.3,4,14.3,9,347],\n",
    "[4,4,9.5,8.5,327],\n",
    "[4.4,6,18.4,7.1,377],\n",
    "[2.7,6,13.7,9.3,294],\n",
    "[3.1,6,19.4,6.4,297],\n",
    "[4,4,9.6,13.3,313],\n",
    "[1.8,6,11.5,18,207],\n",
    "[6.3,4,11.6,9.6,253],\n",
    "[5,6,11.3,9.7,269],\n",
    "[2.8,8,13.1,10,235],\n",
    "[2.2,8,13.2,10.6,235],\n",
    "[2.8,8,13.3,6.9,307],\n",
    "[4,8,11.9,6.7,354],\n",
    "[4,8,12.9,5.7,337],\n",
    "[3.9,8,12.6,5.8,368],\n",
    "[3.8,6,13.1,6.1,327],\n",
    "[4,6,12.8,5.9,205],\n",
    "[5,6,13.3,6.5,193],\n",
    "[6.7,6,19.7,6.1,207],\n",
    "[4,6,16.7,5.9,209],\n",
    "[2.9,8,19.7,8.4,200],\n",
    "[2.7,8,16.7,8.3,193],\n",
    "[3.1,4,10,9.6,235],\n",
    "[3.6,4,11.5,10.2,239],\n",
    "[3.9,4,9.3,11.2,230],\n",
    "[2.1,4,12.2,7.2,278]])"
   ]
  },
  {
   "cell_type": "code",
   "execution_count": 126,
   "metadata": {},
   "outputs": [
    {
     "data": {
      "text/plain": [
       "array([['2', '4', '13.7', '9.4', '382'],\n",
       "       ['4.3', '4', '14.3', '9', '347'],\n",
       "       ['4', '4', '9.5', '8.5', '327'],\n",
       "       ['4.4', '6', '18.4', '7.1', '377'],\n",
       "       ['2.7', '6', '13.7', '9.3', '294'],\n",
       "       ['3.1', '6', '19.4', '6.4', '297'],\n",
       "       ['4', '4', '9.6', '13.3', '313'],\n",
       "       ['1.8', '6', '11.5', '18', '207'],\n",
       "       ['6.3', '4', '11.6', '9.6', '253'],\n",
       "       ['5', '6', '11.3', '9.7', '269'],\n",
       "       ['2.8', '8', '13.1', '10', '235'],\n",
       "       ['2.2', '8', '13.2', '10.6', '235'],\n",
       "       ['2.8', '8', '13.3', '6.9', '307'],\n",
       "       ['4', '8', '11.9', '6.7', '354'],\n",
       "       ['4', '8', '12.9', '5.7', '337'],\n",
       "       ['3.9', '8', '12.6', '5.8', '368'],\n",
       "       ['3.8', '6', '13.1', '6.1', '327'],\n",
       "       ['4', '6', '12.8', '5.9', '205'],\n",
       "       ['5', '6', '13.3', '6.5', '193'],\n",
       "       ['6.7', '6', '19.7', '6.1', '207'],\n",
       "       ['4', '6', '16.7', '5.9', '209'],\n",
       "       ['2.9', '8', '19.7', '8.4', '200'],\n",
       "       ['2.7', '8', '16.7', '8.3', '193'],\n",
       "       ['3.1', '4', '10', '9.6', '235'],\n",
       "       ['3.6', '4', '11.5', '10.2', '239'],\n",
       "       ['3.9', '4', '9.3', '11.2', '230'],\n",
       "       ['2.1', '4', '12.2', '7.2', '278']], dtype='<U32')"
      ]
     },
     "execution_count": 126,
     "metadata": {},
     "output_type": "execute_result"
    }
   ],
   "source": [
    "# Eliminamos los encabezados:\n",
    "\n",
    "emisiones = np.delete(emisiones, 0, axis=0)\n",
    "emisiones"
   ]
  },
  {
   "cell_type": "code",
   "execution_count": 127,
   "metadata": {},
   "outputs": [
    {
     "data": {
      "text/plain": [
       "array([[  2. ,   4. ,  13.7,   9.4, 382. ],\n",
       "       [  4.3,   4. ,  14.3,   9. , 347. ],\n",
       "       [  4. ,   4. ,   9.5,   8.5, 327. ],\n",
       "       [  4.4,   6. ,  18.4,   7.1, 377. ],\n",
       "       [  2.7,   6. ,  13.7,   9.3, 294. ],\n",
       "       [  3.1,   6. ,  19.4,   6.4, 297. ],\n",
       "       [  4. ,   4. ,   9.6,  13.3, 313. ],\n",
       "       [  1.8,   6. ,  11.5,  18. , 207. ],\n",
       "       [  6.3,   4. ,  11.6,   9.6, 253. ],\n",
       "       [  5. ,   6. ,  11.3,   9.7, 269. ],\n",
       "       [  2.8,   8. ,  13.1,  10. , 235. ],\n",
       "       [  2.2,   8. ,  13.2,  10.6, 235. ],\n",
       "       [  2.8,   8. ,  13.3,   6.9, 307. ],\n",
       "       [  4. ,   8. ,  11.9,   6.7, 354. ],\n",
       "       [  4. ,   8. ,  12.9,   5.7, 337. ],\n",
       "       [  3.9,   8. ,  12.6,   5.8, 368. ],\n",
       "       [  3.8,   6. ,  13.1,   6.1, 327. ],\n",
       "       [  4. ,   6. ,  12.8,   5.9, 205. ],\n",
       "       [  5. ,   6. ,  13.3,   6.5, 193. ],\n",
       "       [  6.7,   6. ,  19.7,   6.1, 207. ],\n",
       "       [  4. ,   6. ,  16.7,   5.9, 209. ],\n",
       "       [  2.9,   8. ,  19.7,   8.4, 200. ],\n",
       "       [  2.7,   8. ,  16.7,   8.3, 193. ],\n",
       "       [  3.1,   4. ,  10. ,   9.6, 235. ],\n",
       "       [  3.6,   4. ,  11.5,  10.2, 239. ],\n",
       "       [  3.9,   4. ,   9.3,  11.2, 230. ],\n",
       "       [  2.1,   4. ,  12.2,   7.2, 278. ]])"
      ]
     },
     "execution_count": 127,
     "metadata": {},
     "output_type": "execute_result"
    }
   ],
   "source": [
    "emisiones = emisiones.astype(float)\n",
    "emisiones"
   ]
  },
  {
   "cell_type": "markdown",
   "metadata": {},
   "source": [
    "**(9) Extraer columnas numéricas**"
   ]
  },
  {
   "cell_type": "code",
   "execution_count": 128,
   "metadata": {},
   "outputs": [
    {
     "data": {
      "text/html": [
       "<div>\n",
       "<style scoped>\n",
       "    .dataframe tbody tr th:only-of-type {\n",
       "        vertical-align: middle;\n",
       "    }\n",
       "\n",
       "    .dataframe tbody tr th {\n",
       "        vertical-align: top;\n",
       "    }\n",
       "\n",
       "    .dataframe thead th {\n",
       "        text-align: right;\n",
       "    }\n",
       "</style>\n",
       "<table border=\"1\" class=\"dataframe\">\n",
       "  <thead>\n",
       "    <tr style=\"text-align: right;\">\n",
       "      <th></th>\n",
       "      <th>Marca</th>\n",
       "      <th>Motor</th>\n",
       "      <th>Cilindros</th>\n",
       "      <th>Consumo Ciudad</th>\n",
       "      <th>Consumo Carretera</th>\n",
       "      <th>CO2</th>\n",
       "    </tr>\n",
       "  </thead>\n",
       "  <tbody>\n",
       "    <tr>\n",
       "      <th>0</th>\n",
       "      <td>Delicacy</td>\n",
       "      <td>2.1</td>\n",
       "      <td>4</td>\n",
       "      <td>13.7</td>\n",
       "      <td>9.1</td>\n",
       "      <td>290</td>\n",
       "    </tr>\n",
       "    <tr>\n",
       "      <th>1</th>\n",
       "      <td>Fusion</td>\n",
       "      <td>2.6</td>\n",
       "      <td>4</td>\n",
       "      <td>12.7</td>\n",
       "      <td>8.6</td>\n",
       "      <td>327</td>\n",
       "    </tr>\n",
       "    <tr>\n",
       "      <th>2</th>\n",
       "      <td>Majestic</td>\n",
       "      <td>2.0</td>\n",
       "      <td>4</td>\n",
       "      <td>13.7</td>\n",
       "      <td>9.4</td>\n",
       "      <td>382</td>\n",
       "    </tr>\n",
       "    <tr>\n",
       "      <th>3</th>\n",
       "      <td>Garnet</td>\n",
       "      <td>4.3</td>\n",
       "      <td>4</td>\n",
       "      <td>14.3</td>\n",
       "      <td>9.0</td>\n",
       "      <td>347</td>\n",
       "    </tr>\n",
       "    <tr>\n",
       "      <th>4</th>\n",
       "      <td>Pit</td>\n",
       "      <td>3.6</td>\n",
       "      <td>4</td>\n",
       "      <td>14.6</td>\n",
       "      <td>10.4</td>\n",
       "      <td>377</td>\n",
       "    </tr>\n",
       "  </tbody>\n",
       "</table>\n",
       "</div>"
      ],
      "text/plain": [
       "      Marca  Motor  Cilindros  Consumo Ciudad  Consumo Carretera  CO2\n",
       "0  Delicacy    2.1          4            13.7                9.1  290\n",
       "1    Fusion    2.6          4            12.7                8.6  327\n",
       "2  Majestic    2.0          4            13.7                9.4  382\n",
       "3    Garnet    4.3          4            14.3                9.0  347\n",
       "4       Pit    3.6          4            14.6               10.4  377"
      ]
     },
     "execution_count": 128,
     "metadata": {},
     "output_type": "execute_result"
    }
   ],
   "source": [
    "df_1 = pd.read_csv('C:\\\\Users\\\\Usuario\\\\Desktop\\\\ciencia_de_datos\\\\reto_python_2025\\\\emisiones.csv', delimiter=';')\n",
    "df_1.head()"
   ]
  },
  {
   "cell_type": "code",
   "execution_count": 129,
   "metadata": {},
   "outputs": [
    {
     "data": {
      "text/html": [
       "<div>\n",
       "<style scoped>\n",
       "    .dataframe tbody tr th:only-of-type {\n",
       "        vertical-align: middle;\n",
       "    }\n",
       "\n",
       "    .dataframe tbody tr th {\n",
       "        vertical-align: top;\n",
       "    }\n",
       "\n",
       "    .dataframe thead th {\n",
       "        text-align: right;\n",
       "    }\n",
       "</style>\n",
       "<table border=\"1\" class=\"dataframe\">\n",
       "  <thead>\n",
       "    <tr style=\"text-align: right;\">\n",
       "      <th></th>\n",
       "      <th>Motor</th>\n",
       "      <th>Cilindros</th>\n",
       "      <th>Consumo Ciudad</th>\n",
       "      <th>Consumo Carretera</th>\n",
       "      <th>CO2</th>\n",
       "    </tr>\n",
       "  </thead>\n",
       "  <tbody>\n",
       "    <tr>\n",
       "      <th>0</th>\n",
       "      <td>2.1</td>\n",
       "      <td>4</td>\n",
       "      <td>13.7</td>\n",
       "      <td>9.1</td>\n",
       "      <td>290</td>\n",
       "    </tr>\n",
       "    <tr>\n",
       "      <th>1</th>\n",
       "      <td>2.6</td>\n",
       "      <td>4</td>\n",
       "      <td>12.7</td>\n",
       "      <td>8.6</td>\n",
       "      <td>327</td>\n",
       "    </tr>\n",
       "    <tr>\n",
       "      <th>2</th>\n",
       "      <td>2.0</td>\n",
       "      <td>4</td>\n",
       "      <td>13.7</td>\n",
       "      <td>9.4</td>\n",
       "      <td>382</td>\n",
       "    </tr>\n",
       "    <tr>\n",
       "      <th>3</th>\n",
       "      <td>4.3</td>\n",
       "      <td>4</td>\n",
       "      <td>14.3</td>\n",
       "      <td>9.0</td>\n",
       "      <td>347</td>\n",
       "    </tr>\n",
       "    <tr>\n",
       "      <th>4</th>\n",
       "      <td>3.6</td>\n",
       "      <td>4</td>\n",
       "      <td>14.6</td>\n",
       "      <td>10.4</td>\n",
       "      <td>377</td>\n",
       "    </tr>\n",
       "  </tbody>\n",
       "</table>\n",
       "</div>"
      ],
      "text/plain": [
       "   Motor  Cilindros  Consumo Ciudad  Consumo Carretera  CO2\n",
       "0    2.1          4            13.7                9.1  290\n",
       "1    2.6          4            12.7                8.6  327\n",
       "2    2.0          4            13.7                9.4  382\n",
       "3    4.3          4            14.3                9.0  347\n",
       "4    3.6          4            14.6               10.4  377"
      ]
     },
     "execution_count": 129,
     "metadata": {},
     "output_type": "execute_result"
    }
   ],
   "source": [
    "df_1_num = df_1.select_dtypes(include='number')\n",
    "df_1_num.head()"
   ]
  },
  {
   "cell_type": "markdown",
   "metadata": {},
   "source": [
    "**(10) Extraer registros bajo un criterio dado**"
   ]
  },
  {
   "cell_type": "code",
   "execution_count": 130,
   "metadata": {},
   "outputs": [
    {
     "data": {
      "text/plain": [
       "array([[  2. ,   4. ,  13.7,   9.4, 382. ],\n",
       "       [  4.3,   4. ,  14.3,   9. , 347. ],\n",
       "       [  4. ,   4. ,   9.5,   8.5, 327. ],\n",
       "       [  4.4,   6. ,  18.4,   7.1, 377. ],\n",
       "       [  2.7,   6. ,  13.7,   9.3, 294. ],\n",
       "       [  3.1,   6. ,  19.4,   6.4, 297. ],\n",
       "       [  4. ,   4. ,   9.6,  13.3, 313. ],\n",
       "       [  1.8,   6. ,  11.5,  18. , 207. ],\n",
       "       [  6.3,   4. ,  11.6,   9.6, 253. ],\n",
       "       [  5. ,   6. ,  11.3,   9.7, 269. ],\n",
       "       [  2.8,   8. ,  13.1,  10. , 235. ],\n",
       "       [  2.2,   8. ,  13.2,  10.6, 235. ],\n",
       "       [  2.8,   8. ,  13.3,   6.9, 307. ],\n",
       "       [  4. ,   8. ,  11.9,   6.7, 354. ],\n",
       "       [  4. ,   8. ,  12.9,   5.7, 337. ],\n",
       "       [  3.9,   8. ,  12.6,   5.8, 368. ],\n",
       "       [  3.8,   6. ,  13.1,   6.1, 327. ],\n",
       "       [  4. ,   6. ,  12.8,   5.9, 205. ],\n",
       "       [  6.7,   6. ,  19.7,   6.1, 207. ],\n",
       "       [  4. ,   6. ,  16.7,   5.9, 209. ],\n",
       "       [  3.1,   4. ,  10. ,   9.6, 235. ],\n",
       "       [  3.6,   4. ,  11.5,  10.2, 239. ],\n",
       "       [  3.9,   4. ,   9.3,  11.2, 230. ],\n",
       "       [  2.1,   4. ,  12.2,   7.2, 278. ]])"
      ]
     },
     "execution_count": 130,
     "metadata": {},
     "output_type": "execute_result"
    }
   ],
   "source": [
    "# Del arreglo \"emisiones\", extraer las filas donde el C02 sea mayor a 204:\n",
    "\n",
    "co2_alto = emisiones[emisiones[:, 4] > 204]\n",
    "co2_alto"
   ]
  },
  {
   "cell_type": "markdown",
   "metadata": {},
   "source": [
    "**(11) Extraer los registros más altos**"
   ]
  },
  {
   "cell_type": "code",
   "execution_count": 131,
   "metadata": {},
   "outputs": [
    {
     "data": {
      "text/plain": [
       "array([[  2. ,   4. ,  13.7,   9.4, 382. ],\n",
       "       [  4.4,   6. ,  18.4,   7.1, 377. ],\n",
       "       [  3.9,   8. ,  12.6,   5.8, 368. ],\n",
       "       [  4. ,   8. ,  11.9,   6.7, 354. ],\n",
       "       [  4.3,   4. ,  14.3,   9. , 347. ],\n",
       "       [  4. ,   8. ,  12.9,   5.7, 337. ],\n",
       "       [  4. ,   4. ,   9.5,   8.5, 327. ],\n",
       "       [  3.8,   6. ,  13.1,   6.1, 327. ],\n",
       "       [  4. ,   4. ,   9.6,  13.3, 313. ],\n",
       "       [  2.8,   8. ,  13.3,   6.9, 307. ]])"
      ]
     },
     "execution_count": 131,
     "metadata": {},
     "output_type": "execute_result"
    }
   ],
   "source": [
    "# Extraer las 10 primeras filas con el valor más alto (ordenar de mayor a menor):\n",
    "\n",
    "primeras_filas = emisiones[emisiones[:, 4].argsort()[::-1][:10]]\n",
    "primeras_filas\n",
    "\n",
    "# La notación [::-1] implica orden descendente, es decir, del más alto al más pequeño"
   ]
  },
  {
   "cell_type": "markdown",
   "metadata": {},
   "source": [
    "**(12) Cambiar el orden de las columnas de un dataframe**"
   ]
  },
  {
   "cell_type": "code",
   "execution_count": 132,
   "metadata": {},
   "outputs": [
    {
     "data": {
      "text/html": [
       "<div>\n",
       "<style scoped>\n",
       "    .dataframe tbody tr th:only-of-type {\n",
       "        vertical-align: middle;\n",
       "    }\n",
       "\n",
       "    .dataframe tbody tr th {\n",
       "        vertical-align: top;\n",
       "    }\n",
       "\n",
       "    .dataframe thead th {\n",
       "        text-align: right;\n",
       "    }\n",
       "</style>\n",
       "<table border=\"1\" class=\"dataframe\">\n",
       "  <thead>\n",
       "    <tr style=\"text-align: right;\">\n",
       "      <th></th>\n",
       "      <th>Marca</th>\n",
       "      <th>Motor</th>\n",
       "      <th>Cilindros</th>\n",
       "      <th>Consumo Ciudad</th>\n",
       "      <th>Consumo Carretera</th>\n",
       "      <th>CO2</th>\n",
       "    </tr>\n",
       "  </thead>\n",
       "  <tbody>\n",
       "    <tr>\n",
       "      <th>0</th>\n",
       "      <td>Delicacy</td>\n",
       "      <td>2.1</td>\n",
       "      <td>4</td>\n",
       "      <td>13.7</td>\n",
       "      <td>9.1</td>\n",
       "      <td>290</td>\n",
       "    </tr>\n",
       "    <tr>\n",
       "      <th>1</th>\n",
       "      <td>Fusion</td>\n",
       "      <td>2.6</td>\n",
       "      <td>4</td>\n",
       "      <td>12.7</td>\n",
       "      <td>8.6</td>\n",
       "      <td>327</td>\n",
       "    </tr>\n",
       "    <tr>\n",
       "      <th>2</th>\n",
       "      <td>Majestic</td>\n",
       "      <td>2.0</td>\n",
       "      <td>4</td>\n",
       "      <td>13.7</td>\n",
       "      <td>9.4</td>\n",
       "      <td>382</td>\n",
       "    </tr>\n",
       "    <tr>\n",
       "      <th>3</th>\n",
       "      <td>Garnet</td>\n",
       "      <td>4.3</td>\n",
       "      <td>4</td>\n",
       "      <td>14.3</td>\n",
       "      <td>9.0</td>\n",
       "      <td>347</td>\n",
       "    </tr>\n",
       "    <tr>\n",
       "      <th>4</th>\n",
       "      <td>Pit</td>\n",
       "      <td>3.6</td>\n",
       "      <td>4</td>\n",
       "      <td>14.6</td>\n",
       "      <td>10.4</td>\n",
       "      <td>377</td>\n",
       "    </tr>\n",
       "  </tbody>\n",
       "</table>\n",
       "</div>"
      ],
      "text/plain": [
       "      Marca  Motor  Cilindros  Consumo Ciudad  Consumo Carretera  CO2\n",
       "0  Delicacy    2.1          4            13.7                9.1  290\n",
       "1    Fusion    2.6          4            12.7                8.6  327\n",
       "2  Majestic    2.0          4            13.7                9.4  382\n",
       "3    Garnet    4.3          4            14.3                9.0  347\n",
       "4       Pit    3.6          4            14.6               10.4  377"
      ]
     },
     "execution_count": 132,
     "metadata": {},
     "output_type": "execute_result"
    }
   ],
   "source": [
    "df_1.head()"
   ]
  },
  {
   "cell_type": "code",
   "execution_count": 133,
   "metadata": {},
   "outputs": [
    {
     "data": {
      "text/html": [
       "<div>\n",
       "<style scoped>\n",
       "    .dataframe tbody tr th:only-of-type {\n",
       "        vertical-align: middle;\n",
       "    }\n",
       "\n",
       "    .dataframe tbody tr th {\n",
       "        vertical-align: top;\n",
       "    }\n",
       "\n",
       "    .dataframe thead th {\n",
       "        text-align: right;\n",
       "    }\n",
       "</style>\n",
       "<table border=\"1\" class=\"dataframe\">\n",
       "  <thead>\n",
       "    <tr style=\"text-align: right;\">\n",
       "      <th></th>\n",
       "      <th>Marca</th>\n",
       "      <th>Motor</th>\n",
       "      <th>Cilindros</th>\n",
       "      <th>Consumo Carretera</th>\n",
       "      <th>Consumo Ciudad</th>\n",
       "      <th>CO2</th>\n",
       "    </tr>\n",
       "  </thead>\n",
       "  <tbody>\n",
       "    <tr>\n",
       "      <th>0</th>\n",
       "      <td>Delicacy</td>\n",
       "      <td>2.1</td>\n",
       "      <td>4</td>\n",
       "      <td>9.1</td>\n",
       "      <td>13.7</td>\n",
       "      <td>290</td>\n",
       "    </tr>\n",
       "    <tr>\n",
       "      <th>1</th>\n",
       "      <td>Fusion</td>\n",
       "      <td>2.6</td>\n",
       "      <td>4</td>\n",
       "      <td>8.6</td>\n",
       "      <td>12.7</td>\n",
       "      <td>327</td>\n",
       "    </tr>\n",
       "    <tr>\n",
       "      <th>2</th>\n",
       "      <td>Majestic</td>\n",
       "      <td>2.0</td>\n",
       "      <td>4</td>\n",
       "      <td>9.4</td>\n",
       "      <td>13.7</td>\n",
       "      <td>382</td>\n",
       "    </tr>\n",
       "    <tr>\n",
       "      <th>3</th>\n",
       "      <td>Garnet</td>\n",
       "      <td>4.3</td>\n",
       "      <td>4</td>\n",
       "      <td>9.0</td>\n",
       "      <td>14.3</td>\n",
       "      <td>347</td>\n",
       "    </tr>\n",
       "    <tr>\n",
       "      <th>4</th>\n",
       "      <td>Pit</td>\n",
       "      <td>3.6</td>\n",
       "      <td>4</td>\n",
       "      <td>10.4</td>\n",
       "      <td>14.6</td>\n",
       "      <td>377</td>\n",
       "    </tr>\n",
       "  </tbody>\n",
       "</table>\n",
       "</div>"
      ],
      "text/plain": [
       "      Marca  Motor  Cilindros  Consumo Carretera  Consumo Ciudad  CO2\n",
       "0  Delicacy    2.1          4                9.1            13.7  290\n",
       "1    Fusion    2.6          4                8.6            12.7  327\n",
       "2  Majestic    2.0          4                9.4            13.7  382\n",
       "3    Garnet    4.3          4                9.0            14.3  347\n",
       "4       Pit    3.6          4               10.4            14.6  377"
      ]
     },
     "execution_count": 133,
     "metadata": {},
     "output_type": "execute_result"
    }
   ],
   "source": [
    "# Cambiar el orden de las columnas: intercambiar \"Consumo Ciudad\" por \"Consumo Carretera\":\n",
    "\n",
    "df_1 = df_1.iloc[:, [0,1,2,4,3,5]]\n",
    "df_1.head()"
   ]
  }
 ],
 "metadata": {
  "kernelspec": {
   "display_name": "Python 3",
   "language": "python",
   "name": "python3"
  },
  "language_info": {
   "codemirror_mode": {
    "name": "ipython",
    "version": 3
   },
   "file_extension": ".py",
   "mimetype": "text/x-python",
   "name": "python",
   "nbconvert_exporter": "python",
   "pygments_lexer": "ipython3",
   "version": "3.12.4"
  }
 },
 "nbformat": 4,
 "nbformat_minor": 2
}
